{
 "cells": [
  {
   "cell_type": "code",
   "execution_count": 9,
   "metadata": {
    "colab": {
     "base_uri": "https://localhost:8080/"
    },
    "id": "1YZwHxITLK4G",
    "outputId": "515bef41-e968-4d5d-d2a6-e5505bbce185"
   },
   "outputs": [
    {
     "name": "stdout",
     "output_type": "stream",
     "text": [
      "Total exists503symbols\n",
      "Total exists36unique symbols\n",
      "\n",
      "[   ] with the probability  0.1550695825049702 appeared\n",
      "[ e ] with the probability  0.1073558648111332 appeared\n",
      "[ t ] with the probability  0.08151093439363817 appeared\n",
      "[ o ] with the probability  0.06560636182902585 appeared\n",
      "[ n ] with the probability  0.0636182902584493 appeared\n",
      "[ h ] with the probability  0.05765407554671968 appeared\n",
      "[ i ] with the probability  0.05168986083499006 appeared\n",
      "[ a ] with the probability  0.05168986083499006 appeared\n",
      "[ s ] with the probability  0.04572564612326044 appeared\n",
      "[ y ] with the probability  0.04572564612326044 appeared\n",
      "[ r ] with the probability  0.03777335984095427 appeared\n",
      "[ g ] with the probability  0.033797216699801194 appeared\n",
      "[ d ] with the probability  0.03180914512922465 appeared\n",
      "[ u ] with the probability  0.02186878727634195 appeared\n",
      "[ w ] with the probability  0.02186878727634195 appeared\n",
      "[ m ] with the probability  0.019880715705765408 appeared\n",
      "[ p ] with the probability  0.017892644135188866 appeared\n",
      "[ ' ] with the probability  0.017892644135188866 appeared\n",
      "[ l ] with the probability  0.015904572564612324 appeared\n",
      "[ T ] with the probability  0.013916500994035786 appeared\n",
      "[ k ] with the probability  0.011928429423459244 appeared\n",
      "[ c ] with the probability  0.009940357852882704 appeared\n",
      "[ v ] with the probability  0.009940357852882704 appeared\n",
      "[ , ] with the probability  0.009940357852882704 appeared\n",
      "[ I ] with the probability  0.007952286282306162 appeared\n",
      "[ G ] with the probability  0.007952286282306162 appeared\n",
      "[ b ] with the probability  0.007952286282306162 appeared\n",
      "[ ? ] with the probability  0.007952286282306162 appeared\n",
      "[ f ] with the probability  0.005964214711729622 appeared\n",
      "[ B ] with the probability  0.005964214711729622 appeared\n",
      "[ Y ] with the probability  0.005964214711729622 appeared\n",
      "[ N ] with the probability  0.005964214711729622 appeared\n",
      "[ - ] with the probability  0.003976143141153081 appeared\n",
      "[ O ] with the probability  0.003976143141153081 appeared\n",
      "[ E ] with the probability  0.003976143141153081 appeared\n",
      "[ W ] with the probability  0.003976143141153081 appeared\n"
     ]
    }
   ],
   "source": [
    "fr=open('abc.txt','r', encoding='UTF-8')\n",
    "\n",
    "#Firstly to read all the lines\n",
    "content=fr.readlines()\n",
    "contentLines=''\n",
    "\n",
    "\n",
    "characers=[]#Which means the total number of different symbols to store\n",
    "rate={}#Which means stores the frequency of each unique symbols\n",
    "\n",
    "\n",
    "for line in content:\n",
    "   \n",
    "    line=line.strip()\n",
    "    \n",
    "    if len(line)==0:\n",
    "        continue\n",
    "    contentLines = contentLines + line\n",
    "    #Then to calculate each letter frequency\n",
    "    for x in range(0,len(line)):       \n",
    "    \n",
    "        if not line[x] in characers:       \n",
    "            characers.append(line[x])     \n",
    "       \n",
    "        if line[x] not in rate:           \n",
    "            rate[line[x]]=1\n",
    "              \n",
    "        rate[line[x]]+=1\n",
    "        \n",
    "\n",
    "\n",
    "rate=sorted(rate.items(), key=lambda e:e[1], reverse=True)\n",
    "\n",
    "\n",
    "print('Total exists%dsymbols'%len(contentLines))\n",
    "print('Total exists%dunique symbols'%len(characers))\n",
    "print()\n",
    "for i in rate:\n",
    "    print(\"[\",i[0],\"] with the probability \",  i[1]/len(contentLines), \"appeared\")\n",
    "fr.close()"
   ]
  }
 ],
 "metadata": {
  "colab": {
   "collapsed_sections": [],
   "name": "SecondWork.ipynb",
   "provenance": []
  },
  "kernelspec": {
   "display_name": "Python 3",
   "language": "python",
   "name": "python3"
  },
  "language_info": {
   "codemirror_mode": {
    "name": "ipython",
    "version": 3
   },
   "file_extension": ".py",
   "mimetype": "text/x-python",
   "name": "python",
   "nbconvert_exporter": "python",
   "pygments_lexer": "ipython3",
   "version": "3.8.3"
  }
 },
 "nbformat": 4,
 "nbformat_minor": 1
}
