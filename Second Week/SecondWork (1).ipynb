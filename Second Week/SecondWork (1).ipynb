{
  "nbformat": 4,
  "nbformat_minor": 0,
  "metadata": {
    "colab": {
      "name": "SecondWork.ipynb",
      "provenance": [],
      "collapsed_sections": []
    },
    "kernelspec": {
      "name": "python3",
      "display_name": "Python 3"
    },
    "language_info": {
      "name": "python"
    }
  },
  "cells": [
    {
      "cell_type": "code",
      "metadata": {
        "colab": {
          "base_uri": "https://localhost:8080/"
        },
        "id": "1YZwHxITLK4G",
        "outputId": "cfeea3e7-fb39-4b56-8fbe-7ac012724678"
      },
      "source": [
        "#the coding implementation in python(Berik Gulina & Abdikalyk Gulnazym)\n",
        "fr=open('abc.txt','r', encoding='UTF-8')\n",
        "\n",
        "#Firstly we need to read all the lines\n",
        "wholecontent=fr.readlines()#We set our content here\n",
        "wholecontentLines=''\n",
        "\n",
        "\n",
        "symboolicc=[]#Which means the total number of different symbols to store\n",
        "rate={}#Which means stores the frequency of each unique symbols\n",
        "\n",
        "\n",
        "for line in wholecontent:#find the we need in for statement\n",
        "   \n",
        "    line=line.strip()\n",
        "    \n",
        "    if len(line)==0:#created the related condition in here\n",
        "        continue\n",
        "    wholecontentLines = wholecontentLines + line#to read the next line \n",
        "    #Then to calculate each letter by the frequency\n",
        "    for x in range(0,len(line)):       \n",
        "    \n",
        "        if not line[x] in symboolicc:       \n",
        "            symboolicc.append(line[x])     \n",
        "       \n",
        "        if line[x] not in rate: #if not then          \n",
        "            rate[line[x]]=1\n",
        "              \n",
        "        rate[line[x]]+=1\n",
        "        \n",
        "\n",
        "\n",
        "rate=sorted(rate.items(), key=lambda e:e[1], reverse=True)\n",
        "\n",
        "\n",
        "print('Total exists%dsymbols'%len(wholecontentLines))#print out the result\n",
        "print('Total exists%dunique symbols'%len(symboolicc))\n",
        "print()\n",
        "for i in rate:#show the content with probability calculated\n",
        "    print(\"[\",i[0],\"] with the probability \",  i[1]/len(wholecontentLines), \"appeared\")\n",
        "fr.close()#then stopped to read the txt"
      ],
      "execution_count": 5,
      "outputs": [
        {
          "output_type": "stream",
          "text": [
            "Total exists503symbols\n",
            "Total exists36unique symbols\n",
            "\n",
            "[   ] with the probability  0.1550695825049702 appeared\n",
            "[ e ] with the probability  0.1073558648111332 appeared\n",
            "[ t ] with the probability  0.08151093439363817 appeared\n",
            "[ o ] with the probability  0.06560636182902585 appeared\n",
            "[ n ] with the probability  0.0636182902584493 appeared\n",
            "[ h ] with the probability  0.05765407554671968 appeared\n",
            "[ i ] with the probability  0.05168986083499006 appeared\n",
            "[ a ] with the probability  0.05168986083499006 appeared\n",
            "[ s ] with the probability  0.04572564612326044 appeared\n",
            "[ y ] with the probability  0.04572564612326044 appeared\n",
            "[ r ] with the probability  0.03777335984095427 appeared\n",
            "[ g ] with the probability  0.033797216699801194 appeared\n",
            "[ d ] with the probability  0.03180914512922465 appeared\n",
            "[ u ] with the probability  0.02186878727634195 appeared\n",
            "[ w ] with the probability  0.02186878727634195 appeared\n",
            "[ m ] with the probability  0.019880715705765408 appeared\n",
            "[ p ] with the probability  0.017892644135188866 appeared\n",
            "[ ' ] with the probability  0.017892644135188866 appeared\n",
            "[ l ] with the probability  0.015904572564612324 appeared\n",
            "[ T ] with the probability  0.013916500994035786 appeared\n",
            "[ k ] with the probability  0.011928429423459244 appeared\n",
            "[ c ] with the probability  0.009940357852882704 appeared\n",
            "[ v ] with the probability  0.009940357852882704 appeared\n",
            "[ , ] with the probability  0.009940357852882704 appeared\n",
            "[ I ] with the probability  0.007952286282306162 appeared\n",
            "[ G ] with the probability  0.007952286282306162 appeared\n",
            "[ b ] with the probability  0.007952286282306162 appeared\n",
            "[ ? ] with the probability  0.007952286282306162 appeared\n",
            "[ f ] with the probability  0.005964214711729622 appeared\n",
            "[ B ] with the probability  0.005964214711729622 appeared\n",
            "[ Y ] with the probability  0.005964214711729622 appeared\n",
            "[ N ] with the probability  0.005964214711729622 appeared\n",
            "[ - ] with the probability  0.003976143141153081 appeared\n",
            "[ O ] with the probability  0.003976143141153081 appeared\n",
            "[ E ] with the probability  0.003976143141153081 appeared\n",
            "[ W ] with the probability  0.003976143141153081 appeared\n"
          ],
          "name": "stdout"
        }
      ]
    }
  ]
}