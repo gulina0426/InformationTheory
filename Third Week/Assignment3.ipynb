{
  "nbformat": 4,
  "nbformat_minor": 0,
  "metadata": {
    "colab": {
      "name": "Assignment3.ipynb",
      "provenance": [],
      "collapsed_sections": []
    },
    "kernelspec": {
      "name": "python3",
      "display_name": "Python 3"
    },
    "language_info": {
      "name": "python"
    }
  },
  "cells": [
    {
      "cell_type": "markdown",
      "metadata": {
        "id": "NPXD7wjWYygx"
      },
      "source": [
        "## **Assignment 3**"
      ]
    },
    {
      "cell_type": "markdown",
      "metadata": {
        "id": "uuXjuMBHY768"
      },
      "source": [
        "Group:BDA-1904\n",
        "\n",
        "Name:Berik Gulina & Abdikalyk Gulnazym"
      ]
    },
    {
      "cell_type": "markdown",
      "metadata": {
        "id": "Spcj-Y-WZJk4"
      },
      "source": [
        "**Task-1**"
      ]
    },
    {
      "cell_type": "code",
      "metadata": {
        "colab": {
          "base_uri": "https://localhost:8080/"
        },
        "id": "SdYzVp1YZK1T",
        "outputId": "956686b2-4222-4372-d6c1-e2b0d9ae9526"
      },
      "source": [
        "from collections import Counter\n",
        "#Firstly set our file in order to be readable\n",
        "FileeRead = open('abc.txt','r',encoding='utf-8').read()\n",
        "#Then after that we set the total length\n",
        "TotalCount=len(FileeRead)\n",
        "#Our first function here inorder to count the whole\n",
        "def GulCalculation_1():\n",
        "    G_Count_Found ={}#Initial\n",
        "    for i in FileeRead:#Started the loop statement\n",
        "        if i in G_Count_Found:\n",
        "            G_Count_Found[i]+=1#If we found the matched then will be added into the counter\n",
        "        else:\n",
        "            G_Count_Found[i]=1#If not then just remain\n",
        "\n",
        "            \n",
        "    for i in G_Count_Found:#Then are going to show the related message output and roundd to 3 var\n",
        "    \n",
        "    \n",
        "      print(f' {[i[0]]}  ,with probability of  {round(G_Count_Found[i] / TotalCount,3)}  appeared  ')\n",
        "\n",
        "#Here is the second way for present the frequency by using the set default\n",
        "def GulCalculation_2():\n",
        "    G_Count_Found_2 ={}\n",
        "    for char in FileeRead:\n",
        "        G_Count_Found_2.setdefault(char,0)\n",
        "        # print(count.setdefault(char,0))\n",
        "        G_Count_Found_2[char]+=1\n",
        "\n",
        "        \n",
        "    print(\"The way in frequecy:\",G_Count_Found_2)\n",
        "if __name__ =='__main__':\n",
        "    GulCalculation_1()\n",
        "    GulCalculation_2()\n"
      ],
      "execution_count": 6,
      "outputs": [
        {
          "output_type": "stream",
          "text": [
            " ['T']  ,with probability of  0.011  appeared  \n",
            " ['i']  ,with probability of  0.048  appeared  \n",
            " ['m']  ,with probability of  0.017  appeared  \n",
            " ['e']  ,with probability of  0.101  appeared  \n",
            " [' ']  ,with probability of  0.152  appeared  \n",
            " ['s']  ,with probability of  0.04  appeared  \n",
            " ['t']  ,with probability of  0.076  appeared  \n",
            " ['o']  ,with probability of  0.061  appeared  \n",
            " ['p']  ,with probability of  0.015  appeared  \n",
            " ['d']  ,with probability of  0.027  appeared  \n",
            " ['\\n']  ,with probability of  0.046  appeared  \n",
            " ['h']  ,with probability of  0.053  appeared  \n",
            " ['r']  ,with probability of  0.034  appeared  \n",
            " ['a']  ,with probability of  0.046  appeared  \n",
            " ['f']  ,with probability of  0.004  appeared  \n",
            " ['c']  ,with probability of  0.008  appeared  \n",
            " ['l']  ,with probability of  0.013  appeared  \n",
            " ['g']  ,with probability of  0.03  appeared  \n",
            " ['n']  ,with probability of  0.059  appeared  \n",
            " [\"'\"]  ,with probability of  0.015  appeared  \n",
            " ['I']  ,with probability of  0.006  appeared  \n",
            " ['k']  ,with probability of  0.01  appeared  \n",
            " ['B']  ,with probability of  0.004  appeared  \n",
            " ['u']  ,with probability of  0.019  appeared  \n",
            " ['w']  ,with probability of  0.019  appeared  \n",
            " ['v']  ,with probability of  0.008  appeared  \n",
            " ['y']  ,with probability of  0.04  appeared  \n",
            " ['G']  ,with probability of  0.006  appeared  \n",
            " ['-']  ,with probability of  0.002  appeared  \n",
            " ['O']  ,with probability of  0.002  appeared  \n",
            " [',']  ,with probability of  0.008  appeared  \n",
            " ['b']  ,with probability of  0.006  appeared  \n",
            " ['?']  ,with probability of  0.006  appeared  \n",
            " ['Y']  ,with probability of  0.004  appeared  \n",
            " ['N']  ,with probability of  0.004  appeared  \n",
            " ['E']  ,with probability of  0.002  appeared  \n",
            " ['W']  ,with probability of  0.002  appeared  \n",
            "The way in frequecy: {'T': 6, 'i': 25, 'm': 9, 'e': 53, ' ': 80, 's': 21, 't': 40, 'o': 32, 'p': 8, 'd': 14, '\\n': 24, 'h': 28, 'r': 18, 'a': 24, 'f': 2, 'c': 4, 'l': 7, 'g': 16, 'n': 31, \"'\": 8, 'I': 3, 'k': 5, 'B': 2, 'u': 10, 'w': 10, 'v': 4, 'y': 21, 'G': 3, '-': 1, 'O': 1, ',': 4, 'b': 3, '?': 3, 'Y': 2, 'N': 2, 'E': 1, 'W': 1}\n"
          ],
          "name": "stdout"
        }
      ]
    },
    {
      "cell_type": "markdown",
      "metadata": {
        "id": "Z8k_OPWSZmD6"
      },
      "source": [
        "**Task-2**"
      ]
    },
    {
      "cell_type": "code",
      "metadata": {
        "colab": {
          "base_uri": "https://localhost:8080/"
        },
        "id": "-GI67AegZjML",
        "outputId": "a7a9cc2a-a90f-4d16-f421-0e4e2297ef15"
      },
      "source": [
        "class Node(object):#So firstly we have the class which is about the node\n",
        "    def __init__(self, data):\n",
        "        self.data = data#It has the parameter with the data\n",
        "        self.g_parent = None#It has the parameter with the parent\n",
        "        self.g_left_child = None#It has the parameter with the left children\n",
        "        self.g_right_child = None#It has the parameter with the right children\n",
        "        self.g_is_in_tree = False#Then to check if it is existed in our tree\n",
        " \n",
        " \n",
        "class HuffmanTree(object):#Then to build our huffman tree class\n",
        "  \n",
        "    def __init__(self):\n",
        "        self.__root = None#We are going to present the tree so each parameter defines the specific vls\n",
        "        self.g_prefix_branch = '├'\n",
        "        self.g_prefix_trunk = '|'\n",
        "        self.g_prefix_leaf = '└'\n",
        "        self.g_prefix_empty = ''\n",
        "        self.g_prefix_left = '─L─'\n",
        "        self.g_prefix_right = '─R─'\n",
        " \n",
        "    def is_empty(self):#This one is going to check if empty or noe\n",
        "        return not self.__root\n",
        " \n",
        "    @property\n",
        "    def root(self):\n",
        "        return self.__root\n",
        " \n",
        "    @root.setter\n",
        "    def root(self, value):#This process is going to check our not\n",
        "        self.__root = value if isinstance(value, Node) else Node(value)\n",
        " \n",
        "    def show_tree(self):#Here is going to show our tree if it is empty or not\n",
        "        if self.is_empty():#If empty then just print empty\n",
        "            print('Just_Empty')\n",
        "            return#Else is going to print\n",
        "        print('-' * 20)\n",
        "        print(self.__root.data)\n",
        "        self.__print_tree(self.__root)\n",
        "        print('-' * 20)\n",
        " \n",
        "    def __print_tree(self, node, prefix=None):#Here is our function for print the tree\n",
        "        if prefix is None:#If it is none then nothing\n",
        "            prefix, prefix_left_child = '', ''\n",
        "        else:#If it is not null then going to replace and print each\n",
        "            prefix = prefix.replace(self.g_prefix_branch, self.g_prefix_trunk)\n",
        "            prefix = prefix.replace(self.g_prefix_leaf, self.g_prefix_empty)\n",
        "            prefix_left_child = prefix.replace(self.g_prefix_leaf, self.g_prefix_empty)\n",
        "        if self.has_child(node):#If it has the child then going to consider 2 conditions if none or not\n",
        "            if node.g_right_child is not None:#If the right child which contains the node is not null\n",
        "                print(prefix + self.g_prefix_branch + self.g_prefix_right + str(node.g_right_child.data))\n",
        "                if self.has_child(node.g_right_child):#If it also contains the each child\n",
        "                    self.__print_tree(node.g_right_child, prefix + self.g_prefix_branch + ' ')\n",
        "            else:#Else going to print the other condt.\n",
        "                print(prefix + self.g_prefix_branch + self.g_prefix_right)\n",
        "            if node.g_left_child is not None:#Same conditions consider with the left children\n",
        "                print(prefix + self.g_prefix_leaf + self.g_prefix_left + str(node.g_left_child.data))\n",
        "                if self.has_child(node.g_left_child):#If it also has the chid\n",
        "                    prefix_left_child += '  '\n",
        "                    self.__print_tree(node.g_left_child, self.g_prefix_leaf + prefix_left_child)\n",
        "            else:#else is going to print the others with itself as well\n",
        "                print(prefix + self.g_prefix_leaf + self.g_prefix_left)\n",
        " \n",
        "    def has_child(self, node):\n",
        "        return node.g_left_child is not None or node.g_right_child is not None \n",
        "    \n",
        "    def huffman(self, leavers):\n",
        "       #Then wee need to build our huffman tree in here\n",
        "        if len(leavers) <= 0:#if our leavers are less and equal to zero\n",
        "            return#then return the value\n",
        "        if len(leavers) == 1:#if is one then none and return the ndoe\n",
        "            self.root = Node(leavers[0])\n",
        "            return\n",
        "        woods = list()#if is exisiting with the list which we provided\n",
        "        for i in range(len(leavers)):\n",
        "            woods.append(Node(leavers[i]))#Then going to add it\n",
        "        while len(woods) < 2*len(leavers) - 1:\n",
        "            node1, node2 = Node(float('inf')), Node(float('inf'))\n",
        "            for j in range(len(woods)):\n",
        "                if node1.data > node2.data:\n",
        "                    node1, node2 = node2, node1\n",
        "                if woods[j].data < node1.data and woods[j].g_is_in_tree is False:\n",
        "                    node1, node2 = woods[j], node1\n",
        "                elif node1.data <= woods[j].data < node2.data and woods[j].g_is_in_tree is False:\n",
        "                    node2 = woods[j]\n",
        "            parent_node = Node(node1.data + node2.data)\n",
        "            woods.append(parent_node)\n",
        "            parent_node.g_left_child, parent_node.g_right_child = node1, node2\n",
        "            self.root, node1.g_parent, node2.g_parent = parent_node, parent_node, parent_node\n",
        "            node1.g_is_in_tree, node2.g_is_in_tree = True, True \n",
        "            \n",
        "if __name__ == '__main__':\n",
        "    tree = HuffmanTree()\n",
        "    leavers = [10, 5, 7, 13, 17, 11]#The list we provided for example\n",
        "    tree.huffman(leavers)\n",
        "    tree.show_tree()            "
      ],
      "execution_count": 37,
      "outputs": [
        {
          "output_type": "stream",
          "text": [
            "--------------------\n",
            "63\n",
            "├─R─38\n",
            "| ├─R─21\n",
            "| | ├─R─11\n",
            "| | └─L─10\n",
            "| └─L─17\n",
            "└─L─25\n",
            "  ├─R─13\n",
            "  └─L─12\n",
            "    ├─R─7\n",
            "    └─L─5\n",
            "--------------------\n"
          ],
          "name": "stdout"
        }
      ]
    },
    {
      "cell_type": "markdown",
      "metadata": {
        "id": "SP8kcNJIUbZB"
      },
      "source": [
        "**Task-3**"
      ]
    },
    {
      "cell_type": "code",
      "metadata": {
        "colab": {
          "base_uri": "https://localhost:8080/"
        },
        "id": "m65_xG9mUd8a",
        "outputId": "d8c0e0c0-32c5-4953-d19e-822cb6cbdb86"
      },
      "source": [
        "import heapq \n",
        "\n",
        "#Firstly we have define our function to calculate the frequency\n",
        "def G_The_frequency(file1):\n",
        "    g_saving={}#set the saving part first\n",
        "    for line in file1:#Then to find each in the each line\n",
        "\n",
        "        for i in range(len(line)):#If we find the related line then going to add in the saving\n",
        "            if not(line[i] in g_saving):\n",
        "                g_saving[line[i]]=1\n",
        "            else:#Else will be the converse\n",
        "                g_saving[line[i]]+=1\n",
        "    return (g_saving)\n",
        "\n",
        "def G_Part_Encode(text):#Then secondly is our encoding part\n",
        "    exchange=[]\n",
        "    for g_symbollic,g_freq in text.items():#In the text items we need the symbol and frequency\n",
        "        exchange.append([g_freq,[g_symbollic,'']])\n",
        "    heapq.heapify(exchange)#then going to exchange\n",
        "    while len(exchange)>1:\n",
        "        left=heapq.heappop(exchange)\n",
        "        right=heapq.heappop(exchange)\n",
        "        for element in left[1:]:\n",
        "            element[1]='0'+element[1]\n",
        "        for element in right[1:]:\n",
        "            element[1]='1'+element[1]\n",
        "        heapq.heappush(exchange,[left[0]+right[0]]+left[1:]+right[1:])\n",
        "    exchange=heapq.heappop(exchange)\n",
        "    return exchange\n",
        "\n",
        "if __name__ == \"__main__\":#Here is our main function\n",
        "\n",
        "    Thefilename=\"abc.txt\"#read the file\n",
        "    file=open(Thefilename,'r',encoding='utf-8').read()\n",
        "    The_total = len(file)#total is our length out file\n",
        "    \n",
        "    g_freq=G_The_frequency(file)#frequency is our freq of file\n",
        "  \n",
        "    encoded=G_Part_Encode(g_freq)#encode is our code part of file\n",
        " \n",
        "    print(\"[The sym] \\t [Probability] \\t [Code]\")#Then going to print\n",
        "    \n",
        "    for i in encoded[1:]:\n",
        "        count=round(g_freq[i[0]]/ The_total,3)\n",
        "        print(repr(i[0])+\"\\t\\t\"+ str(count) +\"\\t\\t  \"+ i[1])"
      ],
      "execution_count": 22,
      "outputs": [
        {
          "output_type": "stream",
          "text": [
            "[The sym] \t [Probability] \t [Code]\n",
            "'a'\t\t0.046\t\t  0000\n",
            "'i'\t\t0.048\t\t  0001\n",
            "'e'\t\t0.101\t\t  001\n",
            "'I'\t\t0.006\t\t  0100000\n",
            "'b'\t\t0.006\t\t  0100001\n",
            "'T'\t\t0.011\t\t  010001\n",
            "'d'\t\t0.027\t\t  01001\n",
            "'h'\t\t0.053\t\t  0101\n",
            "'l'\t\t0.013\t\t  011000\n",
            "\"'\"\t\t0.015\t\t  011001\n",
            "','\t\t0.008\t\t  0110100\n",
            "'-'\t\t0.002\t\t  011010100\n",
            "'E'\t\t0.002\t\t  011010101\n",
            "'B'\t\t0.004\t\t  01101011\n",
            "'N'\t\t0.004\t\t  01101100\n",
            "'O'\t\t0.002\t\t  011011010\n",
            "'W'\t\t0.002\t\t  011011011\n",
            "'Y'\t\t0.004\t\t  01101110\n",
            "'f'\t\t0.004\t\t  01101111\n",
            "'n'\t\t0.059\t\t  0111\n",
            "'c'\t\t0.008\t\t  1000000\n",
            "'v'\t\t0.008\t\t  1000001\n",
            "'p'\t\t0.015\t\t  100001\n",
            "'g'\t\t0.03\t\t  10001\n",
            "'o'\t\t0.061\t\t  1001\n",
            "'r'\t\t0.034\t\t  10100\n",
            "'m'\t\t0.017\t\t  101010\n",
            "'u'\t\t0.019\t\t  101011\n",
            "'t'\t\t0.076\t\t  1011\n",
            "' '\t\t0.152\t\t  110\n",
            "'s'\t\t0.04\t\t  11100\n",
            "'w'\t\t0.019\t\t  111010\n",
            "'k'\t\t0.01\t\t  1110110\n",
            "'?'\t\t0.006\t\t  11101110\n",
            "'G'\t\t0.006\t\t  11101111\n",
            "'y'\t\t0.04\t\t  11110\n",
            "'\\n'\t\t0.046\t\t  11111\n"
          ],
          "name": "stdout"
        }
      ]
    },
    {
      "cell_type": "markdown",
      "metadata": {
        "id": "lxFk4qx1X0Ak"
      },
      "source": [
        "**Task-4**"
      ]
    },
    {
      "cell_type": "code",
      "metadata": {
        "colab": {
          "base_uri": "https://localhost:8080/"
        },
        "id": "q3etVXrFX2Bv",
        "outputId": "0204fea8-7e69-45fe-92e7-574ed94dffbf"
      },
      "source": [
        "import os\n",
        "import heapq\n",
        "from heapq import heappop, heappush\n",
        "#Firstly set our file in order to be readable\n",
        "The_text = open('abc.txt','r',encoding='utf-8').read() \n",
        " \n",
        "def Check_isLeaf_g(root):#Set our function to check is the leaf or not\n",
        "    return root.gleft is None and root.gright is None#then to return none or not\n",
        " \n",
        " \n",
        "    # here start the tree node\n",
        "class Node:#Then is our class about the Node\n",
        "    def __init__(self, gch, gfreq, gleft=None, gright=None):\n",
        "        self.gch = gch#Here we need the para with children,frequency,left and right\n",
        "        self.gfreq = gfreq#set each of them related to their\n",
        "        self.gleft = gleft\n",
        "        self.gright = gright\n",
        " \n",
        "    # Here we need to override the whole function to make our node class work with priority in queue\n",
        "    # such in here that the highest priority item who has the lowest frequency\n",
        "    def __lt__(self, other):#Then in here we need to define this one\n",
        "        return self.gfreq < other.gfreq #Then to return the part\n",
        " \n",
        " \n",
        "# Here need to traverse the our Tree and store it in the dictionary\n",
        "def encode(root, str, huffman_code):\n",
        " \n",
        "    if root is None:#If none then return\n",
        "        return\n",
        " \n",
        "    # In here need to found a leaf node as well\n",
        "    if Check_isLeaf_g(root):#Check the related condtion as follow\n",
        "        huffman_code[root.gch] = str if len(str) > 0 else '1'\n",
        " \n",
        "    encode(root.gleft, str + '0', huffman_code)#our left child\n",
        "    encode(root.gright, str + '1', huffman_code)#our right child\n",
        " \n",
        " \n",
        "# decoding part with our tree\n",
        "def decode(root, index, str): #define it\n",
        "        if root is None:#if none then return index\n",
        "            return index\n",
        "\n",
        "        # Here need to found a leaf node\n",
        "        if Check_isLeaf_g(root):\n",
        "            print( end='')\n",
        "            return index\n",
        "\n",
        "        index = index + 1#then the index will be added\n",
        "        root = root.gleft if str[index] == '0' else root.gright\n",
        "        return decode(root, index, str) #then return the decoding part\n",
        "\n",
        "    # here need to build the tree\n",
        "def buildHuffmanTree(The_text):#The text is our file which will uploaded\n",
        " \n",
        "    # if the empty string with condition\n",
        "    if len(The_text) == 0:\n",
        "        return\n",
        " \n",
        "    # here we need to firstly count the freq with each char,then to store it\n",
        "    \n",
        "    gfreq = {i: The_text.count(i) for i in set(The_text)}#counting the freq\n",
        " \n",
        "    # here need to store the live nodes with creating the queue\n",
        "    pq = [Node(k, v) for k, v in gfreq.items()]\n",
        "    heapq.heapify(pq)\n",
        " \n",
        "    while len(pq) != 1:\n",
        " \n",
        "        # Remove the two nodes of the highest priority\n",
        "     \n",
        " \n",
        "        gleft = heappop(pq)\n",
        "        gright = heappop(pq)\n",
        " \n",
        "      #here we need to create the new one\n",
        " \n",
        "        total = gleft.gfreq + gright.gfreq\n",
        "        heappush(pq, Node(None, total, gleft, gright))\n",
        " \n",
        "    # the root in here will stores the pointter of the tree\n",
        "    root = pq[0]\n",
        " \n",
        "    # traverse our_tree and to store it in the dicc\n",
        "    huffmanCode = {}\n",
        "    encode(root, \"\", huffmanCode)\n",
        "    # print the resultt\n",
        "    str = \"\"\n",
        "    for c in The_text:\n",
        "        str += huffmanCode.get(c)\n",
        " \n",
        "    print(str)#saving it to the file\n",
        "    text_file_save = open(\"outputtxt.txt\", \"w\")\n",
        "    nnn = text_file_save.write(str)\n",
        "    text_file_save.close()\n",
        " \n",
        "    if Check_isLeaf_g(root):\n",
        "        # here is the special carses\n",
        "        while root.gfreq > 0:\n",
        "            print( end='')\n",
        "            root.gfreq = root.gfreq - 1\n",
        "    else:\n",
        "        #decode and encode the string part here\n",
        "        index = -1\n",
        "        while index < len(str) - 1:\n",
        "            index = decode(root, index, str)\n",
        " \n",
        " \n",
        "# then to output the result\n",
        "if __name__ == '__main__':\n",
        "     \n",
        "    buildHuffmanTree(The_text) "
      ],
      "execution_count": 30,
      "outputs": [
        {
          "output_type": "stream",
          "text": [
            "010001000110101000111011101101110010110110110110010100100000100010101001110101110100111110110011101100111000101100101100110000001100000101101111101110010011001011101101010111100110010010111111011110000001000011110111110111101000100101101111010000001101110110001011110000110100101100001001001101000000011001101111001011110101011001110111110001011101101010111101010101001100010100010111100001101001011100001100000010001010100111100110111011011111111110011000010111110101101010011101010100011010101001101000001001111010000010001010111111101101101011101110101011010111100110101101010011110011001001100101110110101011110011001001011111101111000000100001111011000110111011000101111000011011101010110011010010111000111001110100011000001011011001010010000100011111011011001011111011100100111110010100110001111000011110111011110001010000110000011110111110100000011011110000110111000100110001100010100110100111001001011100111010101111111111011100110000001111101000111010110101111111011110010000111111011001011110101101011010100101110000011001101111001011110101011010111100110111010101100111110001100001001110111101111100101001111111010011000011011110011110011010110100000000010001100100111110011010110101000101111111010110111001001111100011010101000011101010000011000001011011000010001101100101000011001010011110001101011101110101000001100000101101110001001101001011101100011100110100101101100010111000110010111000001000101011111110111101010111111111101110101101010010111100010011001111001101011110011011011000001111111110100111001100000110111101010100011101000010010000110000010001111010001010011010011100010011111111100110101101010011101110111111101010001110101011100110100010011110110001001101111110100001011101101010111101110010011111001101011000110100001010010100000000010001100100111110011001001100101110110101011110101000011010100011010100100001001101001101110111111111000001011110000110101101011111110110000110000011110110100101110011100100111111111001110100001000111010101111001100100110011101110010011111001101111010001001011011110111011111111100000101111000011001111001010000000001000110100110001010011010011010101000010111010011101011010100111001101111111111011011110001111000000010001010100011110111000011110111010110101001110011100110101111010000001011100110100111111011000110010111000010000100111011111101011111111110000001111011010010111001\n"
          ],
          "name": "stdout"
        }
      ]
    },
    {
      "cell_type": "markdown",
      "metadata": {
        "id": "KEXv30HOk4HN"
      },
      "source": [
        "**Task-5**"
      ]
    },
    {
      "cell_type": "code",
      "metadata": {
        "colab": {
          "base_uri": "https://localhost:8080/"
        },
        "id": "uWWGHuavmn20",
        "outputId": "8c13f260-4dd7-4b65-9a94-d95a5c44ec42"
      },
      "source": [
        "import zlib, base64 \n",
        "g_the_file = open('abc.txt','r',encoding='utf-8').read()\n",
        "g_the_fulllen = len(g_the_file)\n",
        "g_symbo = g_the_file.split()  \n",
        "# here is part to encoding\n",
        "whole_code =  base64.b64encode(zlib.compress(g_the_file.encode('utf-8'),9)) \n",
        "whole_code = whole_code.decode('utf-8')\n",
        "g_the_codelen = len(whole_code)  \n",
        "g_the_comressionratio = round(g_the_fulllen/g_the_codelen,2)\n",
        "g_the_avglen = round(sum(len(word) for word in g_symbo) / len(g_symbo),2)\n",
        "print(f'The_Number of bits in our orgin text are total: {g_the_fulllen} bits' )\n",
        "print(f'The_Number of bits in our compressed text are total: {g_the_codelen} bits')\n",
        "print(f'The Compression ratio are: {g_the_comressionratio} bits')\n",
        "print(f'The Average code length are: {g_the_avglen} bits/symbols')"
      ],
      "execution_count": 35,
      "outputs": [
        {
          "output_type": "stream",
          "text": [
            "The_Number of bits in our orgin text are total: 526 bits\n",
            "The_Number of bits in our compressed text are total: 432 bits\n",
            "The Compression ratio are: 1.22 bits\n",
            "The Average code length are: 4.35 bits/symbols\n"
          ],
          "name": "stdout"
        }
      ]
    },
    {
      "cell_type": "code",
      "metadata": {
        "colab": {
          "base_uri": "https://localhost:8080/"
        },
        "id": "k8ScY6uRk6Tq",
        "outputId": "3f34652f-9c6d-4fcd-a549-af72c7fed2e2"
      },
      "source": [
        "import zlib, base64 \n",
        "g_the_file = open('outputtxt.txt','r',encoding='utf-8').read()\n",
        "g_the_fulllen = len(g_the_file)\n",
        "g_symbo = g_the_file.split()  \n",
        "# here is part to encoding\n",
        "whole_code =  base64.b64encode(zlib.compress(g_the_file.encode('utf-8'),9)) \n",
        "whole_code = whole_code.decode('utf-8')\n",
        "g_the_codelen = len(whole_code)  \n",
        "g_the_comressionratio = round(g_the_fulllen/g_the_codelen,2)\n",
        "g_the_avglen = round(sum(len(word) for word in g_symbo) / len(g_symbo),2)\n",
        "print(f'Number of bits in the original text: {g_the_fulllen} bits' )\n",
        "print(f'Number of bits in the compressed text: {g_the_codelen} bits')\n",
        "print(f'Compression ratio: {g_the_comressionratio} bits')\n",
        "print(f'Average code length: {g_the_avglen} bits/symbols')"
      ],
      "execution_count": 33,
      "outputs": [
        {
          "output_type": "stream",
          "text": [
            "Number of bits in the original text: 2346 bits\n",
            "Number of bits in the compressed text: 540 bits\n",
            "Compression ratio: 4.34 bits\n",
            "Average code length: 2346.0 bits/symbols\n"
          ],
          "name": "stdout"
        }
      ]
    }
  ]
}