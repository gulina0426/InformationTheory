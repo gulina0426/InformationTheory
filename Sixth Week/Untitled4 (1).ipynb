{
  "nbformat": 4,
  "nbformat_minor": 0,
  "metadata": {
    "colab": {
      "name": "Untitled4.ipynb",
      "provenance": [],
      "collapsed_sections": [],
      "toc_visible": true
    },
    "kernelspec": {
      "name": "python3",
      "display_name": "Python 3"
    },
    "language_info": {
      "name": "python"
    }
  },
  "cells": [
    {
      "cell_type": "markdown",
      "metadata": {
        "id": "sxCWshVSokAl"
      },
      "source": [
        "## **First One:**"
      ]
    },
    {
      "cell_type": "code",
      "metadata": {
        "colab": {
          "base_uri": "https://localhost:8080/"
        },
        "id": "R4eyjodNopEK",
        "outputId": "ddf3b383-ad59-4d19-a0f7-8d00b7393b8c"
      },
      "source": [
        "import os\n",
        "import heapq\n",
        "from heapq import heappop, heappush\n",
        "#Firstly set our file in order to be readable\n",
        "The_text = open('OurFile.txt','r',encoding='utf-8').read() \n",
        " \n",
        "def Check_isLeaf_g(root):#Set our function to check is the leaf or not\n",
        "    return root.gleft is None and root.gright is None#then to return none or not\n",
        " \n",
        " \n",
        "    # here start the tree node\n",
        "class Node:#Then is our class about the Node\n",
        "    def __init__(self, gch, gfreq, gleft=None, gright=None):\n",
        "        self.gch = gch#Here we need the para with children,frequency,left and right\n",
        "        self.gfreq = gfreq#set each of them related to their\n",
        "        self.gleft = gleft\n",
        "        self.gright = gright\n",
        " \n",
        "    # Here we need to override the whole function to make our node class work with priority in queue\n",
        "    # such in here that the highest priority item who has the lowest frequency\n",
        "    def __lt__(self, other):#Then in here we need to define this one\n",
        "        return self.gfreq < other.gfreq #Then to return the part\n",
        " \n",
        " \n",
        "# Here need to traverse the our Tree and store it in the dictionary\n",
        "def encode(root, str, huffman_code):\n",
        " \n",
        "    if root is None:#If none then return\n",
        "        return\n",
        " \n",
        "    # In here need to found a leaf node as well\n",
        "    if Check_isLeaf_g(root):#Check the related condtion as follow\n",
        "        huffman_code[root.gch] = str if len(str) > 0 else '1'\n",
        " \n",
        "    encode(root.gleft, str + '0', huffman_code)#our left child\n",
        "    encode(root.gright, str + '1', huffman_code)#our right child\n",
        " # decoding part with our tree\n",
        "def decode(root, index, str): #define it\n",
        "        if root is None:#if none then return index\n",
        "            return index\n",
        "\n",
        "        # Here need to found a leaf node\n",
        "        if Check_isLeaf_g(root):\n",
        "            print( end='')\n",
        "            return index\n",
        "\n",
        "        index = index + 1#then the index will be added\n",
        "        root = root.gleft if str[index] == '0' else root.gright\n",
        "        return decode(root, index, str) #then return the decoding part\n",
        "\n",
        "    # here need to build the tree\n",
        "def buildHuffmanTree(The_text):#The text is our file which will uploaded\n",
        " \n",
        "    # if the empty string with condition\n",
        "    if len(The_text) == 0:\n",
        "        return\n",
        " \n",
        "    # here we need to firstly count the freq with each char,then to store it\n",
        "    \n",
        "    gfreq = {i: The_text.count(i) for i in set(The_text)}#counting the freq\n",
        " \n",
        "    # here need to store the live nodes with creating the queue\n",
        "    pq = [Node(k, v) for k, v in gfreq.items()]\n",
        "    heapq.heapify(pq)\n",
        " \n",
        "    while len(pq) != 1:\n",
        " \n",
        "        # Remove the two nodes of the highest priority\n",
        "     \n",
        " \n",
        "        gleft = heappop(pq)\n",
        "        gright = heappop(pq)\n",
        "        total = gleft.gfreq + gright.gfreq\n",
        "        heappush(pq, Node(None, total, gleft, gright))\n",
        " \n",
        "    # the root in here will stores the pointter of the tree\n",
        "    root = pq[0]\n",
        " \n",
        "    # traverse our_tree and to store it in the dicc\n",
        "    huffmanCode = {}\n",
        "    encode(root, \"\", huffmanCode)\n",
        "    # print the resultt\n",
        "    str = \"\"\n",
        "    for c in The_text:\n",
        "        str += huffmanCode.get(c)\n",
        " \n",
        "    print(str)#saving it to the file\n",
        "    text_file_save = open(\"LastVersion.txt\", \"w\")\n",
        "    nnn = text_file_save.write(str)\n",
        "    text_file_save.close()\n",
        " \n",
        "    if Check_isLeaf_g(root):\n",
        "        # here is the special carses\n",
        "        while root.gfreq > 0:\n",
        "            print( end='')\n",
        "            root.gfreq = root.gfreq - 1\n",
        "    else:\n",
        "        #decode and encode the string part here\n",
        "        index = -1\n",
        "        while index < len(str) - 1:\n",
        "            index = decode(root, index, str)\n",
        " \n",
        " \n",
        "# then to output the result\n",
        "if __name__ == '__main__': \n",
        "     buildHuffmanTree(The_text)"
      ],
      "execution_count": 70,
      "outputs": [
        {
          "output_type": "stream",
          "text": [
            "01000101100011111011100011001010111011011001\n"
          ],
          "name": "stdout"
        }
      ]
    },
    {
      "cell_type": "markdown",
      "metadata": {
        "id": "iUE0HFLQxcfR"
      },
      "source": [
        "**6.1 For (7,4) implementation**"
      ]
    },
    {
      "cell_type": "code",
      "metadata": {
        "colab": {
          "base_uri": "https://localhost:8080/"
        },
        "id": "AE3_XlAJtj0l",
        "outputId": "f26e92ce-180e-455b-bd44-7285e08a9074"
      },
      "source": [
        "GTask_Two = open('LastVersion.txt','r',encoding='utf-8').read() \n",
        "#Firstly read the file what we already have from the previous step in output\n",
        "Gdata_bits = 4\n",
        "#Next,we set our data bit equal to 4 due to_(7,4)\n",
        "GFunc = [GTask_Two[i:i+Gdata_bits] for i in range(0, len(GTask_Two), Gdata_bits)]\n",
        "#Statr the iteration\n",
        "print('Whole_Data_Blocks_are:',GFunc)\n",
        "print('Output as following:')#Finally the result as follow\n",
        "for i in range(len(GFunc)): \n",
        "        print(f'b:{i} : {GFunc[i]}')"
      ],
      "execution_count": 71,
      "outputs": [
        {
          "output_type": "stream",
          "text": [
            "Whole_Data_Blocks_are: ['0100', '0101', '1000', '1111', '1011', '1000', '1100', '1010', '1110', '1101', '1001']\n",
            "Output as following:\n",
            "b:0 : 0100\n",
            "b:1 : 0101\n",
            "b:2 : 1000\n",
            "b:3 : 1111\n",
            "b:4 : 1011\n",
            "b:5 : 1000\n",
            "b:6 : 1100\n",
            "b:7 : 1010\n",
            "b:8 : 1110\n",
            "b:9 : 1101\n",
            "b:10 : 1001\n"
          ],
          "name": "stdout"
        }
      ]
    },
    {
      "cell_type": "markdown",
      "metadata": {
        "id": "ugI1Xj2TxkV0"
      },
      "source": [
        "**6.1 For (11,15) implementation**"
      ]
    },
    {
      "cell_type": "code",
      "metadata": {
        "colab": {
          "base_uri": "https://localhost:8080/"
        },
        "id": "eToeM0fpuZ0O",
        "outputId": "1485ef2f-99fe-4bbe-98c8-8ca1ec53fc65"
      },
      "source": [
        "GTask_Two = open('LastVersion.txt','r',encoding='utf-8').read() \n",
        "#Firstly read the file what we already have from the previous step in output\n",
        "Gdata_bits = 11\n",
        "#Next,we set our data bit equal to 11 due to_(11,15)\n",
        "GFunc2 = [GTask_Two[i:i+Gdata_bits] for i in range(0, len(GTask_Two), Gdata_bits)]\n",
        "#Statr the iteration\n",
        "print('Whole_Data_Blocks_are:',GFunc2)\n",
        "print('Output as following:')#Finally the result as follow\n",
        "for i in range(len(GFunc2)): \n",
        "        print(f'b:{i} : {GFunc2[i]}')"
      ],
      "execution_count": 72,
      "outputs": [
        {
          "output_type": "stream",
          "text": [
            "Whole_Data_Blocks_are: ['01000101100', '01111101110', '00110010101', '11011011001']\n",
            "Output as following:\n",
            "b:0 : 01000101100\n",
            "b:1 : 01111101110\n",
            "b:2 : 00110010101\n",
            "b:3 : 11011011001\n"
          ],
          "name": "stdout"
        }
      ]
    },
    {
      "cell_type": "markdown",
      "metadata": {
        "id": "gwW4uDiCxtPw"
      },
      "source": [
        "**6.2 For (7,4) implementation**"
      ]
    },
    {
      "cell_type": "code",
      "metadata": {
        "id": "pMJ2ZGbjuQ9P"
      },
      "source": [
        "def Gul_HammingEncode_74_Imp(ttheBitString):\n",
        "#Then defined our function related to 74 here\n",
        "    GTotalNumber = 1\n",
        "    GWholeeBitNum = [ttheBitString[i:i+GTotalNumber] for i in range(0, len(ttheBitString), GTotalNumber)]\n",
        "    #Iteration step\n",
        "    for i in range(0, len(GWholeeBitNum)):\n",
        "      #loop\n",
        "      GWholeeBitNum[i] = int(GWholeeBitNum[i])\n",
        "    #Get the result\n",
        "    print(f'BitString_{ttheBitString}:')\n",
        "    #As the assignment given\n",
        "    print(f'Expand the block to 8 bits: _ _ _ {GWholeeBitNum[0]} _ {GWholeeBitNum[1]} {GWholeeBitNum[2]} {GWholeeBitNum[3]}.')\n",
        "    p1 = GWholeeBitNum[0]^GWholeeBitNum[1]^GWholeeBitNum[3]\n",
        "    print(f'p1: b3 + b5 + b7 = {GWholeeBitNum[0]}+{GWholeeBitNum[1]}+{GWholeeBitNum[3]} = {p1}.')\n",
        "    p2 = GWholeeBitNum[0]^GWholeeBitNum[2]^GWholeeBitNum[3]\n",
        "    print(f'p2: b3 + b6 + b7 = {GWholeeBitNum[0]}+{GWholeeBitNum[2]}+{GWholeeBitNum[3]} = {p2}.')\n",
        "    p3 = GWholeeBitNum[1]^GWholeeBitNum[2]^GWholeeBitNum[3]\n",
        "    print(f'p3: b5 + b6 + b7 = {GWholeeBitNum[1]}+{GWholeeBitNum[2]}+{GWholeeBitNum[3]} = {p3}.')\n",
        "    p0 = p1^p2^GWholeeBitNum[0]^p3^GWholeeBitNum[1]^GWholeeBitNum[2]^GWholeeBitNum[3]\n",
        "    print(f'p0: b1 + b2 + b3 + b4 + b5 + b6 + b7 = {p1} + {p2} + {GWholeeBitNum[0]} + {p3} + {GWholeeBitNum[1]} + {GWholeeBitNum[2]} + {GWholeeBitNum[3]} = {p0}.')\n",
        "    LastV = \"%d%d%d%d%d%d%d%d\" % (p0,p1,p2,GWholeeBitNum[0],p3,GWholeeBitNum[1],GWholeeBitNum[2],GWholeeBitNum[3])\n",
        "    print(f'Final_String: {LastV}')#Printresultss\n",
        "    return LastV"
      ],
      "execution_count": 73,
      "outputs": []
    },
    {
      "cell_type": "code",
      "metadata": {
        "colab": {
          "base_uri": "https://localhost:8080/"
        },
        "id": "ZYOHpuUxuxQq",
        "outputId": "66259fd4-4167-4ca5-8fb2-9ede0586e14a"
      },
      "source": [
        "The_OutPut = ''\n",
        "for i in range(0, len(GFunc)):\n",
        "  itrr = Gul_HammingEncode_74_Imp(GFunc[i])\n",
        "  The_OutPut = The_OutPut + itrr \n",
        "  print('')\n",
        "  print('__Next__')"
      ],
      "execution_count": 74,
      "outputs": [
        {
          "output_type": "stream",
          "text": [
            "BitString_0100:\n",
            "Expand the block to 8 bits: _ _ _ 0 _ 1 0 0.\n",
            "p1: b3 + b5 + b7 = 0+1+0 = 1.\n",
            "p2: b3 + b6 + b7 = 0+0+0 = 0.\n",
            "p3: b5 + b6 + b7 = 1+0+0 = 1.\n",
            "p0: b1 + b2 + b3 + b4 + b5 + b6 + b7 = 1 + 0 + 0 + 1 + 1 + 0 + 0 = 1.\n",
            "Final_String: 11001100\n",
            "\n",
            "__Next__\n",
            "BitString_0101:\n",
            "Expand the block to 8 bits: _ _ _ 0 _ 1 0 1.\n",
            "p1: b3 + b5 + b7 = 0+1+1 = 0.\n",
            "p2: b3 + b6 + b7 = 0+0+1 = 1.\n",
            "p3: b5 + b6 + b7 = 1+0+1 = 0.\n",
            "p0: b1 + b2 + b3 + b4 + b5 + b6 + b7 = 0 + 1 + 0 + 0 + 1 + 0 + 1 = 1.\n",
            "Final_String: 10100101\n",
            "\n",
            "__Next__\n",
            "BitString_1000:\n",
            "Expand the block to 8 bits: _ _ _ 1 _ 0 0 0.\n",
            "p1: b3 + b5 + b7 = 1+0+0 = 1.\n",
            "p2: b3 + b6 + b7 = 1+0+0 = 1.\n",
            "p3: b5 + b6 + b7 = 0+0+0 = 0.\n",
            "p0: b1 + b2 + b3 + b4 + b5 + b6 + b7 = 1 + 1 + 1 + 0 + 0 + 0 + 0 = 1.\n",
            "Final_String: 11110000\n",
            "\n",
            "__Next__\n",
            "BitString_1111:\n",
            "Expand the block to 8 bits: _ _ _ 1 _ 1 1 1.\n",
            "p1: b3 + b5 + b7 = 1+1+1 = 1.\n",
            "p2: b3 + b6 + b7 = 1+1+1 = 1.\n",
            "p3: b5 + b6 + b7 = 1+1+1 = 1.\n",
            "p0: b1 + b2 + b3 + b4 + b5 + b6 + b7 = 1 + 1 + 1 + 1 + 1 + 1 + 1 = 1.\n",
            "Final_String: 11111111\n",
            "\n",
            "__Next__\n",
            "BitString_1011:\n",
            "Expand the block to 8 bits: _ _ _ 1 _ 0 1 1.\n",
            "p1: b3 + b5 + b7 = 1+0+1 = 0.\n",
            "p2: b3 + b6 + b7 = 1+1+1 = 1.\n",
            "p3: b5 + b6 + b7 = 0+1+1 = 0.\n",
            "p0: b1 + b2 + b3 + b4 + b5 + b6 + b7 = 0 + 1 + 1 + 0 + 0 + 1 + 1 = 0.\n",
            "Final_String: 00110011\n",
            "\n",
            "__Next__\n",
            "BitString_1000:\n",
            "Expand the block to 8 bits: _ _ _ 1 _ 0 0 0.\n",
            "p1: b3 + b5 + b7 = 1+0+0 = 1.\n",
            "p2: b3 + b6 + b7 = 1+0+0 = 1.\n",
            "p3: b5 + b6 + b7 = 0+0+0 = 0.\n",
            "p0: b1 + b2 + b3 + b4 + b5 + b6 + b7 = 1 + 1 + 1 + 0 + 0 + 0 + 0 = 1.\n",
            "Final_String: 11110000\n",
            "\n",
            "__Next__\n",
            "BitString_1100:\n",
            "Expand the block to 8 bits: _ _ _ 1 _ 1 0 0.\n",
            "p1: b3 + b5 + b7 = 1+1+0 = 0.\n",
            "p2: b3 + b6 + b7 = 1+0+0 = 1.\n",
            "p3: b5 + b6 + b7 = 1+0+0 = 1.\n",
            "p0: b1 + b2 + b3 + b4 + b5 + b6 + b7 = 0 + 1 + 1 + 1 + 1 + 0 + 0 = 0.\n",
            "Final_String: 00111100\n",
            "\n",
            "__Next__\n",
            "BitString_1010:\n",
            "Expand the block to 8 bits: _ _ _ 1 _ 0 1 0.\n",
            "p1: b3 + b5 + b7 = 1+0+0 = 1.\n",
            "p2: b3 + b6 + b7 = 1+1+0 = 0.\n",
            "p3: b5 + b6 + b7 = 0+1+0 = 1.\n",
            "p0: b1 + b2 + b3 + b4 + b5 + b6 + b7 = 1 + 0 + 1 + 1 + 0 + 1 + 0 = 0.\n",
            "Final_String: 01011010\n",
            "\n",
            "__Next__\n",
            "BitString_1110:\n",
            "Expand the block to 8 bits: _ _ _ 1 _ 1 1 0.\n",
            "p1: b3 + b5 + b7 = 1+1+0 = 0.\n",
            "p2: b3 + b6 + b7 = 1+1+0 = 0.\n",
            "p3: b5 + b6 + b7 = 1+1+0 = 0.\n",
            "p0: b1 + b2 + b3 + b4 + b5 + b6 + b7 = 0 + 0 + 1 + 0 + 1 + 1 + 0 = 1.\n",
            "Final_String: 10010110\n",
            "\n",
            "__Next__\n",
            "BitString_1101:\n",
            "Expand the block to 8 bits: _ _ _ 1 _ 1 0 1.\n",
            "p1: b3 + b5 + b7 = 1+1+1 = 1.\n",
            "p2: b3 + b6 + b7 = 1+0+1 = 0.\n",
            "p3: b5 + b6 + b7 = 1+0+1 = 0.\n",
            "p0: b1 + b2 + b3 + b4 + b5 + b6 + b7 = 1 + 0 + 1 + 0 + 1 + 0 + 1 = 0.\n",
            "Final_String: 01010101\n",
            "\n",
            "__Next__\n",
            "BitString_1001:\n",
            "Expand the block to 8 bits: _ _ _ 1 _ 0 0 1.\n",
            "p1: b3 + b5 + b7 = 1+0+1 = 0.\n",
            "p2: b3 + b6 + b7 = 1+0+1 = 0.\n",
            "p3: b5 + b6 + b7 = 0+0+1 = 1.\n",
            "p0: b1 + b2 + b3 + b4 + b5 + b6 + b7 = 0 + 0 + 1 + 1 + 0 + 0 + 1 = 1.\n",
            "Final_String: 10011001\n",
            "\n",
            "__Next__\n"
          ],
          "name": "stdout"
        }
      ]
    },
    {
      "cell_type": "markdown",
      "metadata": {
        "id": "Lj0Av-A7x-sJ"
      },
      "source": [
        "**6.2 For (11,15) implementation**"
      ]
    },
    {
      "cell_type": "code",
      "metadata": {
        "id": "-RM4z4k25G-u"
      },
      "source": [
        "def Gul_HammingEncode_1115_Imp(ttheBitString2):\n",
        "#Then defined our function related to 74 here\n",
        "    GTotalNumber = 1\n",
        "    GWholeeBitNum = [ttheBitString2[i:i+GTotalNumber] for i in range(0, len(ttheBitString2), GTotalNumber)]\n",
        "    #Iteration step\n",
        "    for i in range(0, len(GWholeeBitNum)):\n",
        "      #loop\n",
        "      GWholeeBitNum[i] = int(GWholeeBitNum[i])\n",
        "    #Get the result\n",
        "    print(f'BitString_{ttheBitString2}:')\n",
        "    #As the assignment given\n",
        "    print(f'Expand the block to 16 bits: _ _ _ {GWholeeBitNum[0]} _ {GWholeeBitNum[1]} {GWholeeBitNum[2]} {GWholeeBitNum[3]} _ {GWholeeBitNum[4]} {GWholeeBitNum[5]} {GWholeeBitNum[6]}{GWholeeBitNum[7]}{GWholeeBitNum[8]}{GWholeeBitNum[9]} {GWholeeBitNum[10]} .')\n",
        "    p1 = GWholeeBitNum[0]^GWholeeBitNum[1]^GWholeeBitNum[3]^GWholeeBitNum[4]^GWholeeBitNum[6]^GWholeeBitNum[8]^GWholeeBitNum[10]\n",
        "    print(f'p1: b3 + b5 + b7+ b9 + b11 + b13 + b15  = {GWholeeBitNum[0]}+{GWholeeBitNum[1]}+{GWholeeBitNum[3]}+{GWholeeBitNum[4]}+{GWholeeBitNum[6]}+{GWholeeBitNum[8]}+{GWholeeBitNum[10]} = {p1}.')\n",
        "    \n",
        "    p2 = GWholeeBitNum[0]^GWholeeBitNum[2]^GWholeeBitNum[3]^GWholeeBitNum[5]^GWholeeBitNum[6]^GWholeeBitNum[9]^GWholeeBitNum[10]\n",
        "    print(f'p2: b3 + b6 + b7 + b10 + b11 + b14 + b15 = {GWholeeBitNum[0]}+{GWholeeBitNum[2]}+{GWholeeBitNum[3]}+{GWholeeBitNum[5]}+{GWholeeBitNum[6]}+{GWholeeBitNum[9]}+{GWholeeBitNum[10]} = {p2}.')\n",
        "    \n",
        "    p3 = GWholeeBitNum[1]^GWholeeBitNum[2]^GWholeeBitNum[3]^GWholeeBitNum[7]^GWholeeBitNum[8]^GWholeeBitNum[9]^GWholeeBitNum[10]\n",
        "    print(f'p3: b5 + b6 + b7 + b12 + b13 + b14 + b15 = {GWholeeBitNum[1]}+{GWholeeBitNum[2]}+{GWholeeBitNum[3]}+{GWholeeBitNum[7]}+{GWholeeBitNum[8]}+{GWholeeBitNum[9]}+{GWholeeBitNum[10]} = {p3}.')\n",
        "   \n",
        "    p4 = GWholeeBitNum[4]^GWholeeBitNum[5]^GWholeeBitNum[6]^GWholeeBitNum[7]^GWholeeBitNum[8]^GWholeeBitNum[9]^GWholeeBitNum[10]\n",
        "    print(f'p4: b9 + b10 + b11 + b12 + b13 + b14 + b15 = {GWholeeBitNum[4]}+{GWholeeBitNum[5]}+{GWholeeBitNum[6]}+{GWholeeBitNum[7]}+{GWholeeBitNum[8]}+{GWholeeBitNum[9]}+{GWholeeBitNum[10]} = {p3}.')\n",
        "    \n",
        "    p0 = p1^p2^GWholeeBitNum[0]^p3^GWholeeBitNum[1]^GWholeeBitNum[2]^GWholeeBitNum[3]^p4^GWholeeBitNum[4]^GWholeeBitNum[5]^GWholeeBitNum[6]^GWholeeBitNum[7]^GWholeeBitNum[8]^GWholeeBitNum[9]^GWholeeBitNum[10]\n",
        "    print(f'p0: b1 + b2 + b3 + b4 + b5 + b6 + b7 + b8 + b9 + b10 + b11 + b12 + b13 + b14 + b15 = {p1} + {p2} + {GWholeeBitNum[0]} + {p3} + {GWholeeBitNum[1]} + {GWholeeBitNum[2]} + {GWholeeBitNum[3]} + {p4} + {GWholeeBitNum[4]} + {GWholeeBitNum[5]} +  {GWholeeBitNum[6]} + {GWholeeBitNum[7]} +  {GWholeeBitNum[8]} + {GWholeeBitNum[9]} +  {GWholeeBitNum[10]}  = {p0}.')\n",
        "    LastV2 = \"%d%d%d%d%d%d%d%d%d%d%d%d%d%d%d%d\" % (p0,p1,p2,GWholeeBitNum[0],p3,GWholeeBitNum[1],GWholeeBitNum[2],GWholeeBitNum[3],p4,GWholeeBitNum[4],GWholeeBitNum[5],GWholeeBitNum[6],GWholeeBitNum[7],GWholeeBitNum[8],GWholeeBitNum[9],GWholeeBitNum[10])\n",
        "    print(f'Final_String: {LastV2}')#Printresultss\n",
        "    return LastV2"
      ],
      "execution_count": 77,
      "outputs": []
    },
    {
      "cell_type": "code",
      "metadata": {
        "colab": {
          "base_uri": "https://localhost:8080/"
        },
        "id": "zSw_qwJn5HCF",
        "outputId": "2d3954c8-ebc6-4c7f-bbc8-40edd8a8bbdd"
      },
      "source": [
        "The_OutPut2 = ''\n",
        "for i in range(0, len(GFunc2)):\n",
        "  itrr2 = Gul_HammingEncode_1115_Imp(GFunc2[i])\n",
        "  The_OutPut2 = The_OutPut2 + itrr2 \n",
        "  print('')\n",
        "  print('__Next__')"
      ],
      "execution_count": 78,
      "outputs": [
        {
          "output_type": "stream",
          "text": [
            "BitString_01000101100:\n",
            "Expand the block to 16 bits: _ _ _ 0 _ 1 0 0 _ 0 1 0110 0 .\n",
            "p1: b3 + b5 + b7+ b9 + b11 + b13 + b15  = 0+1+0+0+0+1+0 = 0.\n",
            "p2: b3 + b6 + b7 + b10 + b11 + b14 + b15 = 0+0+0+1+0+0+0 = 1.\n",
            "p3: b5 + b6 + b7 + b12 + b13 + b14 + b15 = 1+0+0+1+1+0+0 = 1.\n",
            "p4: b9 + b10 + b11 + b12 + b13 + b14 + b15 = 0+1+0+1+1+0+0 = 1.\n",
            "p0: b1 + b2 + b3 + b4 + b5 + b6 + b7 + b8 + b9 + b10 + b11 + b12 + b13 + b14 + b15 = 0 + 1 + 0 + 1 + 1 + 0 + 0 + 1 + 0 + 1 +  0 + 1 +  1 + 0 +  0  = 1.\n",
            "Final_String: 1010110010101100\n",
            "\n",
            "__Next__\n",
            "BitString_01111101110:\n",
            "Expand the block to 16 bits: _ _ _ 0 _ 1 1 1 _ 1 1 0111 0 .\n",
            "p1: b3 + b5 + b7+ b9 + b11 + b13 + b15  = 0+1+1+1+0+1+0 = 0.\n",
            "p2: b3 + b6 + b7 + b10 + b11 + b14 + b15 = 0+1+1+1+0+1+0 = 0.\n",
            "p3: b5 + b6 + b7 + b12 + b13 + b14 + b15 = 1+1+1+1+1+1+0 = 0.\n",
            "p4: b9 + b10 + b11 + b12 + b13 + b14 + b15 = 1+1+0+1+1+1+0 = 0.\n",
            "p0: b1 + b2 + b3 + b4 + b5 + b6 + b7 + b8 + b9 + b10 + b11 + b12 + b13 + b14 + b15 = 0 + 0 + 0 + 0 + 1 + 1 + 1 + 1 + 1 + 1 +  0 + 1 +  1 + 1 +  0  = 1.\n",
            "Final_String: 1000011111101110\n",
            "\n",
            "__Next__\n",
            "BitString_00110010101:\n",
            "Expand the block to 16 bits: _ _ _ 0 _ 0 1 1 _ 0 0 1010 1 .\n",
            "p1: b3 + b5 + b7+ b9 + b11 + b13 + b15  = 0+0+1+0+1+1+1 = 0.\n",
            "p2: b3 + b6 + b7 + b10 + b11 + b14 + b15 = 0+1+1+0+1+0+1 = 0.\n",
            "p3: b5 + b6 + b7 + b12 + b13 + b14 + b15 = 0+1+1+0+1+0+1 = 0.\n",
            "p4: b9 + b10 + b11 + b12 + b13 + b14 + b15 = 0+0+1+0+1+0+1 = 0.\n",
            "p0: b1 + b2 + b3 + b4 + b5 + b6 + b7 + b8 + b9 + b10 + b11 + b12 + b13 + b14 + b15 = 0 + 0 + 0 + 0 + 0 + 1 + 1 + 1 + 0 + 0 +  1 + 0 +  1 + 0 +  1  = 0.\n",
            "Final_String: 0000001110010101\n",
            "\n",
            "__Next__\n",
            "BitString_11011011001:\n",
            "Expand the block to 16 bits: _ _ _ 1 _ 1 0 1 _ 1 0 1100 1 .\n",
            "p1: b3 + b5 + b7+ b9 + b11 + b13 + b15  = 1+1+1+1+1+0+1 = 0.\n",
            "p2: b3 + b6 + b7 + b10 + b11 + b14 + b15 = 1+0+1+0+1+0+1 = 0.\n",
            "p3: b5 + b6 + b7 + b12 + b13 + b14 + b15 = 1+0+1+1+0+0+1 = 0.\n",
            "p4: b9 + b10 + b11 + b12 + b13 + b14 + b15 = 1+0+1+1+0+0+1 = 0.\n",
            "p0: b1 + b2 + b3 + b4 + b5 + b6 + b7 + b8 + b9 + b10 + b11 + b12 + b13 + b14 + b15 = 0 + 0 + 1 + 0 + 1 + 0 + 1 + 0 + 1 + 0 +  1 + 1 +  0 + 0 +  1  = 1.\n",
            "Final_String: 1001010101011001\n",
            "\n",
            "__Next__\n"
          ],
          "name": "stdout"
        }
      ]
    },
    {
      "cell_type": "markdown",
      "metadata": {
        "id": "MeXQNgN9Rm9i"
      },
      "source": [
        "**6.3 For (7,4) File_Saving**"
      ]
    },
    {
      "cell_type": "code",
      "metadata": {
        "colab": {
          "base_uri": "https://localhost:8080/"
        },
        "id": "_gPrkdd_5HJa",
        "outputId": "e7891ad3-3efe-486e-9b0e-20e18e450506"
      },
      "source": [
        "print('The_Encoded_sequence_is:')\n",
        "print(The_OutPut)\n",
        "Gsav1= open(\"First_Out_74.txt\",\"w+\")"
      ],
      "execution_count": 79,
      "outputs": [
        {
          "output_type": "stream",
          "text": [
            "The_Encoded_sequence_is:\n",
            "1100110010100101111100001111111100110011111100000011110001011010100101100101010110011001\n"
          ],
          "name": "stdout"
        }
      ]
    },
    {
      "cell_type": "markdown",
      "metadata": {
        "id": "kDc-8bs3Rr43"
      },
      "source": [
        "**6.3 For (11,15) File_Saving**"
      ]
    },
    {
      "cell_type": "code",
      "metadata": {
        "colab": {
          "base_uri": "https://localhost:8080/"
        },
        "id": "FpC6OXzfuxT9",
        "outputId": "35a061c0-079e-44a8-dd92-6541bd995046"
      },
      "source": [
        "print('Encoded sequence:')\n",
        "print(The_OutPut2) \n",
        "Gsav2 = open(\"Second_Out_1115.txt\",\"w+\")"
      ],
      "execution_count": 80,
      "outputs": [
        {
          "output_type": "stream",
          "text": [
            "Encoded sequence:\n",
            "1010110010101100100001111110111000000011100101011001010101011001\n"
          ],
          "name": "stdout"
        }
      ]
    }
  ]
}